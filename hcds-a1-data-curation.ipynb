{
 "cells": [
  {
   "cell_type": "code",
   "execution_count": 1,
   "metadata": {},
   "outputs": [],
   "source": [
    "import json\n",
    "import requests\n",
    "import csv"
   ]
  },
  {
   "cell_type": "markdown",
   "metadata": {},
   "source": [
    "**<font size=5 >Step1: Data acquisition</font>**\n",
    "\n",
    "Gather the raw data from two APIs:  \n",
    "\n",
    "1.The Legacy Pagecounts API provides access to desktop and mobile traffic data from December 2007 through July 2016.  \n",
    "\n",
    "2.The Pageviews API provides access to desktop, mobile web, and mobile app traffic data from July 2015 through last month.\n"
   ]
  },
  {
   "cell_type": "code",
   "execution_count": 2,
   "metadata": {},
   "outputs": [],
   "source": [
    "endpoint_legacy = 'https://wikimedia.org/api/rest_v1/metrics/legacy/pagecounts/aggregate/{project}/{access-site}/{granularity}/{start}/{end}'\n",
    "\n",
    "endpoint_pageviews = 'https://wikimedia.org/api/rest_v1/metrics/pageviews/aggregate/{project}/{access}/{agent}/{granularity}/{start}/{end}'"
   ]
  },
  {
   "cell_type": "code",
   "execution_count": 3,
   "metadata": {},
   "outputs": [],
   "source": [
    "# parameters for getting aggregated legacy desktop-site view data\n",
    "params_legacy_desktop = {\"project\" : \"en.wikipedia.org\",\n",
    "                 \"access-site\" : \"desktop-site\",\n",
    "                 \"granularity\" : \"monthly\",\n",
    "                 \"start\" : \"2007010100\",\n",
    "                # for end use 1st day of month following final month of data\n",
    "                 \"end\" : \"2016080100\"\n",
    "                    }\n",
    "\n",
    "# parameters for getting aggregated legacy mobile-site view data\n",
    "params_legacy_mobile = {\"project\" : \"en.wikipedia.org\",\n",
    "                 \"access-site\" : \"mobile-site\",\n",
    "                 \"granularity\" : \"monthly\",\n",
    "                 \"start\" : \"2007010100\",\n",
    "                 \"end\" : \"2016080100\"\n",
    "                    }\n",
    "\n",
    "#parameters for getting aggregated current standard pageview desktop data\n",
    "params_pageviews_desktop = {\"project\" : \"en.wikipedia.org\",\n",
    "                    \"access\" : \"desktop\",\n",
    "                    \"agent\" : \"user\",\n",
    "                    \"granularity\" : \"monthly\",\n",
    "                    \"start\" : \"2015070100\",\n",
    "                    # for end use 1st day of month following final month of data\n",
    "                    \"end\" : '2021101000'\n",
    "                        }\n",
    "\n",
    "#parameters for getting aggregated current standard pageview mobile-app data\n",
    "params_pageviews_mobileapp = {\"project\" : \"en.wikipedia.org\",\n",
    "                    \"access\" : \"mobile-app\",\n",
    "                    \"agent\" : \"user\",\n",
    "                    \"granularity\" : \"monthly\",\n",
    "                    \"start\" : \"2015070100\",\n",
    "                    # for end use 1st day of month following final month of data\n",
    "                    \"end\" : '2021101000'\n",
    "                        }\n",
    "\n",
    "#parameters for getting aggregated current standard pageview mobile-web data\n",
    "params_pageviews_mobileweb = {\"project\" : \"en.wikipedia.org\",\n",
    "                    \"access\" : \"mobile-web\",\n",
    "                    \"agent\" : \"user\",\n",
    "                    \"granularity\" : \"monthly\",\n",
    "                    \"start\" : \"2015070100\",\n",
    "                    \"end\" : '2021101000'\n",
    "                        }"
   ]
  },
  {
   "cell_type": "code",
   "execution_count": 4,
   "metadata": {},
   "outputs": [],
   "source": [
    "headers = {\n",
    "    'User-Agent': 'https://github.com/SherryL-star',\n",
    "    'From': 'sherrylx@uw.edu'\n",
    "}"
   ]
  },
  {
   "cell_type": "code",
   "execution_count": 5,
   "metadata": {},
   "outputs": [],
   "source": [
    "def api_call(endpoint,parameters):\n",
    "    call = requests.get(endpoint.format(**parameters), headers=headers)\n",
    "    response = call.json()\n",
    "    \n",
    "    return response"
   ]
  },
  {
   "cell_type": "code",
   "execution_count": 6,
   "metadata": {},
   "outputs": [],
   "source": [
    "legacy_desktop = api_call(endpoint_legacy, params_legacy_desktop)\n",
    "legacy_mobile = api_call(endpoint_legacy, params_legacy_mobile)\n",
    "pageviews_desktop= api_call(endpoint_pageviews, params_pageviews_desktop)\n",
    "pageviews_mobileapp= api_call(endpoint_pageviews, params_pageviews_mobileapp)\n",
    "pageviews_mobileweb= api_call(endpoint_pageviews, params_pageviews_mobileweb)"
   ]
  },
  {
   "cell_type": "code",
   "execution_count": 25,
   "metadata": {},
   "outputs": [],
   "source": [
    "with open('pagecounts_desktop-site_200701-201607.json','w') as f:\n",
    "    json.dump(legacy_desktop,f)\n",
    "\n",
    "with open('pagecounts_mobile-site_200701-201607.json','w') as f:\n",
    "    json.dump(legacy_mobile,f)\n",
    "\n",
    "with open('pageviews_desktop_201507-202109.json','w') as f:\n",
    "    json.dump(pageviews_desktop,f)\n",
    "    \n",
    "with open('pageviews_mobile-app_201507-202109.json','w') as f:\n",
    "    json.dump(pageviews_mobileapp,f)\n",
    "\n",
    "with open('pageviews_mobile-web_201507-202109.json','w') as f:\n",
    "    json.dump(pageviews_mobileweb,f)"
   ]
  },
  {
   "cell_type": "markdown",
   "metadata": {},
   "source": [
    "**<font size=5 >Step2: Data processing</font>**  \n",
    "In this step, I merged the 5 .json files and combined them into one .csv file"
   ]
  },
  {
   "cell_type": "code",
   "execution_count": 14,
   "metadata": {},
   "outputs": [],
   "source": [
    "import pandas as pd\n",
    "from pandas import json_normalize"
   ]
  },
  {
   "cell_type": "markdown",
   "metadata": {},
   "source": [
    "convert .json file to dataframe"
   ]
  },
  {
   "cell_type": "code",
   "execution_count": 25,
   "metadata": {},
   "outputs": [],
   "source": [
    "# legacy_pagecount\n",
    "with open('pagecounts_desktop-site_200701-201607.json','r') as f:\n",
    "    data1 = json.loads(f.read())\n",
    "df_legacy_desktop = pd.json_normalize(data1, record_path =['items'])\n",
    "\n",
    "with open('pagecounts_mobile-site_200701-201607.json','r') as f:\n",
    "    data2 = json.loads(f.read())\n",
    "df_legacy_mobile = pd.json_normalize(data2, record_path =['items'])\n",
    "\n",
    "\n",
    "#pageview\n",
    "with open('pageviews_desktop_201507-202109.json','r') as f:\n",
    "    data3 = json.loads(f.read())\n",
    "df_pageview_desktop = pd.json_normalize(data3, record_path =['items'])\n",
    "\n",
    "with open('pageviews_mobile-app_201507-202109.json','r') as f:\n",
    "    data4 = json.loads(f.read())\n",
    "df_pageview_mobileapp = pd.json_normalize(data4, record_path =['items'])\n",
    "\n",
    "with open('pageviews_mobile-web_201507-202109.json','r') as f:\n",
    "    data5 = json.loads(f.read())\n",
    "df_pageview_mobileweb = pd.json_normalize(data5, record_path =['items'])\n"
   ]
  },
  {
   "cell_type": "code",
   "execution_count": 56,
   "metadata": {},
   "outputs": [
    {
     "name": "stdout",
     "output_type": "stream",
     "text": [
      "         project      access agent granularity   timestamp       views\n",
      "0   en.wikipedia  mobile-web  user     monthly  2015070100  3179131148\n",
      "1   en.wikipedia  mobile-web  user     monthly  2015080100  3192663889\n",
      "2   en.wikipedia  mobile-web  user     monthly  2015090100  3073981649\n",
      "3   en.wikipedia  mobile-web  user     monthly  2015100100  3173975355\n",
      "4   en.wikipedia  mobile-web  user     monthly  2015110100  3142247145\n",
      "..           ...         ...   ...         ...         ...         ...\n",
      "70  en.wikipedia  mobile-web  user     monthly  2021050100  4810094479\n",
      "71  en.wikipedia  mobile-web  user     monthly  2021060100  4433805793\n",
      "72  en.wikipedia  mobile-web  user     monthly  2021070100  4617448266\n",
      "73  en.wikipedia  mobile-web  user     monthly  2021080100  4570812807\n",
      "74  en.wikipedia  mobile-web  user     monthly  2021090100  4223914121\n",
      "\n",
      "[75 rows x 6 columns]\n"
     ]
    }
   ],
   "source": [
    "#data sample preview\n",
    "print(df_pageview_mobileweb)"
   ]
  },
  {
   "cell_type": "markdown",
   "metadata": {},
   "source": [
    "In order to make the list more concise, I just take two specific columns：'timestamp' and 'views' and reshape them into a new dataframe. In addition, replace 'NaN' with the value of 0"
   ]
  },
  {
   "cell_type": "code",
   "execution_count": 49,
   "metadata": {},
   "outputs": [],
   "source": [
    "# legacy \n",
    "monthly_legacy_desktop = pd.DataFrame(df_legacy_desktop, columns=['timestamp', 'count'])\n",
    "monthly_legacy_desktop = monthly_legacy_desktop.fillna(0)\n",
    "\n",
    "monthly_legacy_mobile = pd.DataFrame(df_legacy_mobile, columns=['timestamp', 'count'])\n",
    "monthly_legacy_mobile = monthly_legacy_mobile.fillna(0)\n",
    "\n",
    "#pageview\n",
    "monthly_pageview_desktop = pd.DataFrame(df_pageview_desktop, columns=['timestamp', 'views'])\n",
    "monthly_pageview_desktop = monthly_pageview_desktop.fillna(0)\n",
    "\n",
    "monthly_pageview_mobileapp = pd.DataFrame(df_pageview_mobileapp, columns=['timestamp', 'views'])\n",
    "monthly_pageview_mobileapp = monthly_pageview_mobileapp.fillna(0)\n",
    "\n",
    "monthly_pageview_mobileweb = pd.DataFrame(df_pageview_mobileweb, columns=['timestamp', 'views'])\n",
    "monthly_pageview_mobileweb = monthly_pageview_mobileweb.fillna(0)"
   ]
  },
  {
   "cell_type": "code",
   "execution_count": 62,
   "metadata": {},
   "outputs": [
    {
     "name": "stdout",
     "output_type": "stream",
     "text": [
      "     timestamp       count\n",
      "0   2014100100  3091546685\n",
      "1   2014110100  3027489668\n",
      "2   2014120100  3278950021\n",
      "3   2015010100  3485302091\n",
      "4   2015020100  3091534479\n",
      "5   2015030100  3330832588\n",
      "6   2015040100  3222089917\n",
      "7   2015050100  3334069483\n",
      "8   2015060100  3038162463\n",
      "9   2015070100  3254472695\n",
      "10  2015080100  3268487582\n",
      "11  2015090100  3172429827\n",
      "12  2015100100  3246082505\n",
      "13  2015110100  3218234512\n",
      "14  2015120100  3387411863\n",
      "15  2016010100  3739628742\n",
      "16  2016020100  3333231392\n",
      "17  2016030100  3419853636\n",
      "18  2016040100  3301385124\n",
      "19  2016050100  3418435805\n",
      "20  2016060100  3372618063\n",
      "21  2016070100  3500661121\n"
     ]
    }
   ],
   "source": [
    "#data sample preview \n",
    "print(monthly_legacy_mobile)"
   ]
  },
  {
   "cell_type": "markdown",
   "metadata": {},
   "source": [
    "Combine the monthly values for mobile-app and mobile-web to create a total mobile traffic count for each month."
   ]
  },
  {
   "cell_type": "code",
   "execution_count": 42,
   "metadata": {},
   "outputs": [],
   "source": [
    "monthly_pageview_mobileall = monthly_pageview_mobileapp.set_index('timestamp').add(monthly_pageview_mobileweb.set_index('timestamp'), fill_value=0).reset_index()"
   ]
  },
  {
   "cell_type": "code",
   "execution_count": 43,
   "metadata": {},
   "outputs": [
    {
     "name": "stdout",
     "output_type": "stream",
     "text": [
      "     timestamp       views\n",
      "0   2015070100  3288755294\n",
      "1   2015080100  3302333038\n",
      "2   2015090100  3170203333\n",
      "3   2015100100  3268499132\n",
      "4   2015110100  3236601070\n",
      "..         ...         ...\n",
      "70  2021050100  4976579558\n",
      "71  2021060100  4584510417\n",
      "72  2021070100  4778909421\n",
      "73  2021080100  4732194000\n",
      "74  2021090100  4373512692\n",
      "\n",
      "[75 rows x 2 columns]\n"
     ]
    }
   ],
   "source": [
    "print(monthly_pageview_mobileall)"
   ]
  },
  {
   "cell_type": "markdown",
   "metadata": {},
   "source": [
    "Calculate all views of pagecount and pageviews: add mobile and desktop together. "
   ]
  },
  {
   "cell_type": "code",
   "execution_count": 57,
   "metadata": {},
   "outputs": [],
   "source": [
    "monthly_pagecount_all = monthly_legacy_desktop.set_index('timestamp').add(monthly_legacy_mobile.set_index('timestamp'), fill_value=0).reset_index()\n",
    "\n",
    "monthly_pageview_all = monthly_pageview_desktop.set_index('timestamp').add(monthly_pageview_mobileall.set_index('timestamp'), fill_value=0).reset_index()"
   ]
  },
  {
   "cell_type": "code",
   "execution_count": 93,
   "metadata": {},
   "outputs": [
    {
     "name": "stdout",
     "output_type": "stream",
     "text": [
      "     timestamp       views\n",
      "0   2015070100  7665421980\n",
      "1   2015080100  7634815221\n",
      "2   2015090100  7655695037\n",
      "3   2015100100  7746031887\n",
      "4   2015110100  7524321290\n",
      "..         ...         ...\n",
      "70  2021050100  7800995735\n",
      "71  2021060100  7090481783\n",
      "72  2021070100  7544493789\n",
      "73  2021080100  7495607934\n",
      "74  2021090100  7060156893\n",
      "\n",
      "[75 rows x 2 columns]\n"
     ]
    }
   ],
   "source": [
    "print(monthly_pageview_all)"
   ]
  },
  {
   "cell_type": "code",
   "execution_count": 94,
   "metadata": {},
   "outputs": [],
   "source": [
    "monthly_pagecount_all.rename(columns={'count':'pagecount_all_views'}, inplace = True)\n",
    "monthly_legacy_desktop.rename(columns={'count':'pagecount_desktop_views'}, inplace = True)\n",
    "monthly_legacy_mobile.rename(columns={'count':'pagecount_mobile_views'}, inplace = True)\n",
    "monthly_pageview_all.rename(columns={'views':'pageview_all_views'}, inplace = True)\n",
    "monthly_pageview_desktop.rename(columns={'views':'pageview_desktop_views'}, inplace = True)\n",
    "monthly_pageview_mobileall.rename(columns={'views':'pageview_mobile_views'}, inplace = True)"
   ]
  },
  {
   "cell_type": "markdown",
   "metadata": {},
   "source": [
    "Combine all six dataframe into one"
   ]
  },
  {
   "cell_type": "code",
   "execution_count": 95,
   "metadata": {},
   "outputs": [],
   "source": [
    "df1 = pd.merge(monthly_pagecount_all,monthly_legacy_desktop, how='outer', on='timestamp')"
   ]
  },
  {
   "cell_type": "code",
   "execution_count": 96,
   "metadata": {},
   "outputs": [],
   "source": [
    "df2 = pd.merge(df1,monthly_legacy_mobile, how='outer', on='timestamp')"
   ]
  },
  {
   "cell_type": "code",
   "execution_count": 97,
   "metadata": {},
   "outputs": [],
   "source": [
    "df3 = pd.merge(df2,monthly_pageview_all, how='outer', on='timestamp')"
   ]
  },
  {
   "cell_type": "code",
   "execution_count": 98,
   "metadata": {},
   "outputs": [],
   "source": [
    "df4 = pd.merge(df3,monthly_pageview_desktop, how='outer', on='timestamp')"
   ]
  },
  {
   "cell_type": "code",
   "execution_count": 99,
   "metadata": {},
   "outputs": [],
   "source": [
    "df_final = pd.merge(df4,monthly_pageview_mobileall, how='outer', on='timestamp')\n",
    "df_final = df_final.fillna(0)"
   ]
  },
  {
   "cell_type": "code",
   "execution_count": 100,
   "metadata": {},
   "outputs": [
    {
     "name": "stdout",
     "output_type": "stream",
     "text": [
      "      timestamp  pagecount_all_views  pagecount_desktop_views  \\\n",
      "0    2007120100         2.998332e+09             2.998332e+09   \n",
      "1    2008010100         4.930903e+09             4.930903e+09   \n",
      "2    2008020100         4.818394e+09             4.818394e+09   \n",
      "3    2008030100         4.955406e+09             4.955406e+09   \n",
      "4    2008040100         5.159162e+09             5.159162e+09   \n",
      "..          ...                  ...                      ...   \n",
      "161  2021050100         0.000000e+00             0.000000e+00   \n",
      "162  2021060100         0.000000e+00             0.000000e+00   \n",
      "163  2021070100         0.000000e+00             0.000000e+00   \n",
      "164  2021080100         0.000000e+00             0.000000e+00   \n",
      "165  2021090100         0.000000e+00             0.000000e+00   \n",
      "\n",
      "     pagecount_mobile_views  pageview_all_views  pageview_desktop_views  \\\n",
      "0                       0.0        0.000000e+00            0.000000e+00   \n",
      "1                       0.0        0.000000e+00            0.000000e+00   \n",
      "2                       0.0        0.000000e+00            0.000000e+00   \n",
      "3                       0.0        0.000000e+00            0.000000e+00   \n",
      "4                       0.0        0.000000e+00            0.000000e+00   \n",
      "..                      ...                 ...                     ...   \n",
      "161                     0.0        7.800996e+09            2.824416e+09   \n",
      "162                     0.0        7.090482e+09            2.505971e+09   \n",
      "163                     0.0        7.544494e+09            2.765584e+09   \n",
      "164                     0.0        7.495608e+09            2.763414e+09   \n",
      "165                     0.0        7.060157e+09            2.686644e+09   \n",
      "\n",
      "     pageview_mobile_views  \n",
      "0             0.000000e+00  \n",
      "1             0.000000e+00  \n",
      "2             0.000000e+00  \n",
      "3             0.000000e+00  \n",
      "4             0.000000e+00  \n",
      "..                     ...  \n",
      "161           4.976580e+09  \n",
      "162           4.584510e+09  \n",
      "163           4.778909e+09  \n",
      "164           4.732194e+09  \n",
      "165           4.373513e+09  \n",
      "\n",
      "[166 rows x 7 columns]\n"
     ]
    }
   ],
   "source": [
    "print(df_final)"
   ]
  },
  {
   "cell_type": "markdown",
   "metadata": {},
   "source": [
    "Seperate 'temestamp' into 'Year' and 'Month'"
   ]
  },
  {
   "cell_type": "code",
   "execution_count": 101,
   "metadata": {},
   "outputs": [],
   "source": [
    "def DateSplit(df, col):\n",
    "    \"\"\"\n",
    "    split the object of 'timestamp' into year(YYYY) and month(MM).\n",
    "    :param df:  to operate data （type：DataFrame）\n",
    "    :param col: column label of date object （type：str）\n",
    "    :return: converted date （type： DataFrame）\n",
    "    \"\"\"\n",
    "    year, month = [], []\n",
    "    data = df.loc[:, col].values\n",
    "    df = df.drop([col], axis=1)\n",
    "    \n",
    "    for i in range(data.shape[0]):\n",
    "        year.append(int(data[i][:4]))\n",
    "        month.append(int(data[i][4:6]))\n",
    "       \n",
    "    date = pd.DataFrame({'year': year, 'month': month})\n",
    "    result = pd.concat([date, df], axis=1)\n",
    "    return result"
   ]
  },
  {
   "cell_type": "code",
   "execution_count": 102,
   "metadata": {},
   "outputs": [
    {
     "data": {
      "text/html": [
       "<div>\n",
       "<style scoped>\n",
       "    .dataframe tbody tr th:only-of-type {\n",
       "        vertical-align: middle;\n",
       "    }\n",
       "\n",
       "    .dataframe tbody tr th {\n",
       "        vertical-align: top;\n",
       "    }\n",
       "\n",
       "    .dataframe thead th {\n",
       "        text-align: right;\n",
       "    }\n",
       "</style>\n",
       "<table border=\"1\" class=\"dataframe\">\n",
       "  <thead>\n",
       "    <tr style=\"text-align: right;\">\n",
       "      <th></th>\n",
       "      <th>year</th>\n",
       "      <th>month</th>\n",
       "      <th>pagecount_all_views</th>\n",
       "      <th>pagecount_desktop_views</th>\n",
       "      <th>pagecount_mobile_views</th>\n",
       "      <th>pageview_all_views</th>\n",
       "      <th>pageview_desktop_views</th>\n",
       "      <th>pageview_mobile_views</th>\n",
       "    </tr>\n",
       "  </thead>\n",
       "  <tbody>\n",
       "    <tr>\n",
       "      <th>0</th>\n",
       "      <td>2007</td>\n",
       "      <td>12</td>\n",
       "      <td>2.998332e+09</td>\n",
       "      <td>2.998332e+09</td>\n",
       "      <td>0.000000e+00</td>\n",
       "      <td>0.000000e+00</td>\n",
       "      <td>0.000000e+00</td>\n",
       "      <td>0.000000e+00</td>\n",
       "    </tr>\n",
       "    <tr>\n",
       "      <th>1</th>\n",
       "      <td>2008</td>\n",
       "      <td>1</td>\n",
       "      <td>4.930903e+09</td>\n",
       "      <td>4.930903e+09</td>\n",
       "      <td>0.000000e+00</td>\n",
       "      <td>0.000000e+00</td>\n",
       "      <td>0.000000e+00</td>\n",
       "      <td>0.000000e+00</td>\n",
       "    </tr>\n",
       "    <tr>\n",
       "      <th>2</th>\n",
       "      <td>2008</td>\n",
       "      <td>2</td>\n",
       "      <td>4.818394e+09</td>\n",
       "      <td>4.818394e+09</td>\n",
       "      <td>0.000000e+00</td>\n",
       "      <td>0.000000e+00</td>\n",
       "      <td>0.000000e+00</td>\n",
       "      <td>0.000000e+00</td>\n",
       "    </tr>\n",
       "    <tr>\n",
       "      <th>3</th>\n",
       "      <td>2008</td>\n",
       "      <td>3</td>\n",
       "      <td>4.955406e+09</td>\n",
       "      <td>4.955406e+09</td>\n",
       "      <td>0.000000e+00</td>\n",
       "      <td>0.000000e+00</td>\n",
       "      <td>0.000000e+00</td>\n",
       "      <td>0.000000e+00</td>\n",
       "    </tr>\n",
       "    <tr>\n",
       "      <th>4</th>\n",
       "      <td>2008</td>\n",
       "      <td>4</td>\n",
       "      <td>5.159162e+09</td>\n",
       "      <td>5.159162e+09</td>\n",
       "      <td>0.000000e+00</td>\n",
       "      <td>0.000000e+00</td>\n",
       "      <td>0.000000e+00</td>\n",
       "      <td>0.000000e+00</td>\n",
       "    </tr>\n",
       "    <tr>\n",
       "      <th>...</th>\n",
       "      <td>...</td>\n",
       "      <td>...</td>\n",
       "      <td>...</td>\n",
       "      <td>...</td>\n",
       "      <td>...</td>\n",
       "      <td>...</td>\n",
       "      <td>...</td>\n",
       "      <td>...</td>\n",
       "    </tr>\n",
       "    <tr>\n",
       "      <th>95</th>\n",
       "      <td>2015</td>\n",
       "      <td>11</td>\n",
       "      <td>8.515191e+09</td>\n",
       "      <td>5.296956e+09</td>\n",
       "      <td>3.218235e+09</td>\n",
       "      <td>7.524321e+09</td>\n",
       "      <td>4.287720e+09</td>\n",
       "      <td>3.236601e+09</td>\n",
       "    </tr>\n",
       "    <tr>\n",
       "      <th>96</th>\n",
       "      <td>2015</td>\n",
       "      <td>12</td>\n",
       "      <td>8.651858e+09</td>\n",
       "      <td>5.264446e+09</td>\n",
       "      <td>3.387412e+09</td>\n",
       "      <td>7.476287e+09</td>\n",
       "      <td>4.100012e+09</td>\n",
       "      <td>3.376275e+09</td>\n",
       "    </tr>\n",
       "    <tr>\n",
       "      <th>97</th>\n",
       "      <td>2016</td>\n",
       "      <td>1</td>\n",
       "      <td>9.309261e+09</td>\n",
       "      <td>5.569633e+09</td>\n",
       "      <td>3.739629e+09</td>\n",
       "      <td>8.154016e+09</td>\n",
       "      <td>4.436179e+09</td>\n",
       "      <td>3.717837e+09</td>\n",
       "    </tr>\n",
       "    <tr>\n",
       "      <th>98</th>\n",
       "      <td>2016</td>\n",
       "      <td>2</td>\n",
       "      <td>8.680941e+09</td>\n",
       "      <td>5.347709e+09</td>\n",
       "      <td>3.333231e+09</td>\n",
       "      <td>7.585859e+09</td>\n",
       "      <td>4.250997e+09</td>\n",
       "      <td>3.334862e+09</td>\n",
       "    </tr>\n",
       "    <tr>\n",
       "      <th>99</th>\n",
       "      <td>2016</td>\n",
       "      <td>3</td>\n",
       "      <td>8.827530e+09</td>\n",
       "      <td>5.407676e+09</td>\n",
       "      <td>3.419854e+09</td>\n",
       "      <td>7.673275e+09</td>\n",
       "      <td>4.286590e+09</td>\n",
       "      <td>3.386684e+09</td>\n",
       "    </tr>\n",
       "  </tbody>\n",
       "</table>\n",
       "<p>100 rows × 8 columns</p>\n",
       "</div>"
      ],
      "text/plain": [
       "    year  month  pagecount_all_views  pagecount_desktop_views  \\\n",
       "0   2007     12         2.998332e+09             2.998332e+09   \n",
       "1   2008      1         4.930903e+09             4.930903e+09   \n",
       "2   2008      2         4.818394e+09             4.818394e+09   \n",
       "3   2008      3         4.955406e+09             4.955406e+09   \n",
       "4   2008      4         5.159162e+09             5.159162e+09   \n",
       "..   ...    ...                  ...                      ...   \n",
       "95  2015     11         8.515191e+09             5.296956e+09   \n",
       "96  2015     12         8.651858e+09             5.264446e+09   \n",
       "97  2016      1         9.309261e+09             5.569633e+09   \n",
       "98  2016      2         8.680941e+09             5.347709e+09   \n",
       "99  2016      3         8.827530e+09             5.407676e+09   \n",
       "\n",
       "    pagecount_mobile_views  pageview_all_views  pageview_desktop_views  \\\n",
       "0             0.000000e+00        0.000000e+00            0.000000e+00   \n",
       "1             0.000000e+00        0.000000e+00            0.000000e+00   \n",
       "2             0.000000e+00        0.000000e+00            0.000000e+00   \n",
       "3             0.000000e+00        0.000000e+00            0.000000e+00   \n",
       "4             0.000000e+00        0.000000e+00            0.000000e+00   \n",
       "..                     ...                 ...                     ...   \n",
       "95            3.218235e+09        7.524321e+09            4.287720e+09   \n",
       "96            3.387412e+09        7.476287e+09            4.100012e+09   \n",
       "97            3.739629e+09        8.154016e+09            4.436179e+09   \n",
       "98            3.333231e+09        7.585859e+09            4.250997e+09   \n",
       "99            3.419854e+09        7.673275e+09            4.286590e+09   \n",
       "\n",
       "    pageview_mobile_views  \n",
       "0            0.000000e+00  \n",
       "1            0.000000e+00  \n",
       "2            0.000000e+00  \n",
       "3            0.000000e+00  \n",
       "4            0.000000e+00  \n",
       "..                    ...  \n",
       "95           3.236601e+09  \n",
       "96           3.376275e+09  \n",
       "97           3.717837e+09  \n",
       "98           3.334862e+09  \n",
       "99           3.386684e+09  \n",
       "\n",
       "[100 rows x 8 columns]"
      ]
     },
     "execution_count": 102,
     "metadata": {},
     "output_type": "execute_result"
    }
   ],
   "source": [
    "data= DateSplit(df=df_final,col='timestamp')\n",
    "data.head(100)"
   ]
  },
  {
   "cell_type": "markdown",
   "metadata": {},
   "source": [
    "Combine all data into a single CSV file"
   ]
  },
  {
   "cell_type": "code",
   "execution_count": 103,
   "metadata": {},
   "outputs": [],
   "source": [
    "data.to_csv('en-wikipedia_traffic_200712-202108.csv')"
   ]
  },
  {
   "cell_type": "markdown",
   "metadata": {},
   "source": [
    "**<font size=5 >Step3: Analysis</font>**  \n",
    "A time series graph shows the trend of Wikipedia's pageview and pagecount from the end of 2017 to September 2021 and a brief analysis"
   ]
  },
  {
   "cell_type": "code",
   "execution_count": 124,
   "metadata": {},
   "outputs": [],
   "source": [
    "import numpy as np\n",
    "import matplotlib.pyplot as plt\n",
    "import matplotlib as mpl"
   ]
  },
  {
   "cell_type": "code",
   "execution_count": null,
   "metadata": {},
   "outputs": [],
   "source": [
    "#df_final.replace(np.nan,0)"
   ]
  },
  {
   "cell_type": "code",
   "execution_count": 145,
   "metadata": {},
   "outputs": [
    {
     "data": {
      "image/png": "[encoded data removed]",
      "text/plain": [
       "<Figure size 1080x576 with 1 Axes>"
      ]
     },
     "metadata": {},
     "output_type": "display_data"
    }
   ],
   "source": [
    "plt.style.use('ggplot')\n",
    "fig=plt.figure(figsize = (15,8))\n",
    "\n",
    "plt.plot(df_final.timestamp,\n",
    "        df_final.pagecount_all_views,\n",
    "        linestyle = '-',\n",
    "        linewidth = 2,\n",
    "        color = 'blue',\n",
    "        label='pagecount all views')\n",
    "\n",
    "plt.plot(df_final.timestamp,\n",
    "        df_final.pagecount_desktop_views,\n",
    "        linestyle = '-.',\n",
    "        linewidth = 2,\n",
    "        color = 'blue',\n",
    "        label='pagecount desktop views')\n",
    "\n",
    "plt.plot(df_final.timestamp,\n",
    "        df_final.pagecount_mobile_views,\n",
    "        linestyle = ':',\n",
    "        linewidth = 2,\n",
    "        color = 'blue',\n",
    "        label='pagecount mobile views')\n",
    "\n",
    "plt.plot(df_final.timestamp,\n",
    "        df_final.pageview_all_views,\n",
    "        linestyle = '-',\n",
    "        linewidth = 2,\n",
    "        color = 'red',\n",
    "        label='pageview all views')\n",
    "\n",
    "plt.plot(df_final.timestamp,\n",
    "        df_final.pageview_desktop_views,\n",
    "        linestyle = '-.',\n",
    "        linewidth = 2,\n",
    "        color = 'red',\n",
    "        label='pageview desktop views')\n",
    "\n",
    "plt.plot(df_final.timestamp,\n",
    "        df_final.pageview_mobile_views,\n",
    "        linestyle = ':',\n",
    "        linewidth = 2,\n",
    "        color = 'red',\n",
    "        label='pageview mobile views')\n",
    "\n",
    "plt.title('Wikipedia Traffic Trend 2017.12-2021.09')\n",
    "plt.xlabel('Year-Month')\n",
    "plt.ylabel('view/count')\n",
    "plt.xticks(range(0,166,6))\n",
    "fig.autofmt_xdate(rotation = 45)\n",
    "plt.legend()\n",
    "\n",
    "plt.savefig('Result Image.png')\n",
    "\n",
    "plt.show()"
   ]
  },
  {
   "cell_type": "markdown",
   "metadata": {},
   "source": [
    "Analysis:  \n",
    "As can be seen from the graph above, the total number of Wikipedia pagecounts or pageviews has flattened since 2015, maintaining a monthly average of 7 billion to 9 billion, while before 2015, it fluctuated greatly.   \n",
    "Since the mobile data became available in 2014, the number of views from mobile users has been on the rise, while desktop views have shown a continuous downward trend."
   ]
  },
  {
   "cell_type": "code",
   "execution_count": null,
   "metadata": {},
   "outputs": [],
   "source": []
  }
 ],
 "metadata": {
  "kernelspec": {
   "display_name": "Python 3",
   "language": "python",
   "name": "python3"
  },
  "language_info": {
   "codemirror_mode": {
    "name": "ipython",
    "version": 3
   },
   "file_extension": ".py",
   "mimetype": "text/x-python",
   "name": "python",
   "nbconvert_exporter": "python",
   "pygments_lexer": "ipython3",
   "version": "3.8.3"
  }
 },
 "nbformat": 4,
 "nbformat_minor": 4
}
